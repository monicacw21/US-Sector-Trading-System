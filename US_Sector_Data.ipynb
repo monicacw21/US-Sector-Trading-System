{
 "cells": [
  {
   "cell_type": "code",
   "execution_count": 295,
   "id": "e34e8146-e870-4cee-99da-500059848dbc",
   "metadata": {
    "tags": []
   },
   "outputs": [],
   "source": [
    "#Packages needed to run script.\n",
    "import yfinance as yF\n",
    "import pandas as pd\n",
    "import numpy as np\n",
    "import os\n",
    "import datetime as dt"
   ]
  },
  {
   "cell_type": "code",
   "execution_count": 296,
   "id": "001db5a9-e841-4764-9a70-42f65805b7e9",
   "metadata": {},
   "outputs": [],
   "source": [
    "#These are functions for cleaning and finding the 168 day SMA. "
   ]
  },
  {
   "cell_type": "code",
   "execution_count": 297,
   "id": "7aa63156-9101-44e8-b56e-a881f00df6e1",
   "metadata": {
    "tags": []
   },
   "outputs": [],
   "source": [
    "def get_SMA(ticker_symbol):\n",
    "    for ticker in df:\n",
    "        ticker_symbol[f'{ticker}_SMA'] = ticker_symbol[ticker].rolling(168).mean()\n",
    "        ticker_symbol.drop(ticker, axis=1, inplace=True)"
   ]
  },
  {
   "cell_type": "code",
   "execution_count": 298,
   "id": "4daee6ca-7e46-407e-ae9a-509cdaf2ea6f",
   "metadata": {
    "tags": []
   },
   "outputs": [],
   "source": [
    "def clean_df(ticker):\n",
    "    ticker.drop(['Close','Volume', 'High', 'Low', 'Open'], axis=1, inplace=True)\n",
    "    ticker.columns = ticker.columns.map(''.join).str.strip('')"
   ]
  },
  {
   "cell_type": "code",
   "execution_count": 299,
   "id": "9a4a62d9-4283-4f52-bb1e-15c6c2b4188a",
   "metadata": {},
   "outputs": [],
   "source": [
    "#------"
   ]
  },
  {
   "cell_type": "code",
   "execution_count": 300,
   "id": "21edc881-cebe-4bd8-8694-b572adae0f17",
   "metadata": {},
   "outputs": [],
   "source": [
    "#Enter list of ticker symbols here (this will be used throughout the entire script)."
   ]
  },
  {
   "cell_type": "code",
   "execution_count": 301,
   "id": "40f4fa99-ccc6-4d8f-bdb6-015bffe8cb4f",
   "metadata": {},
   "outputs": [],
   "source": [
    "ticker_s = ['XLI', 'XLB', 'XLP', 'XLK', 'XLY', 'XLV', 'XLF', 'XLE', 'XLU', 'XLC', 'XLRE', 'PDBC', 'GLD', 'TLT', 'IEF', 'TIP', 'LTPZ']"
   ]
  },
  {
   "cell_type": "code",
   "execution_count": 302,
   "id": "c1f4cacb-e75b-4771-9c0b-939f869d3fa4",
   "metadata": {},
   "outputs": [],
   "source": [
    "#------"
   ]
  },
  {
   "cell_type": "code",
   "execution_count": 303,
   "id": "d4abe158-2510-4a1c-8395-99a9703e44c0",
   "metadata": {},
   "outputs": [],
   "source": [
    "#Start of Year Data\n",
    "#Only change date on the next year. "
   ]
  },
  {
   "cell_type": "code",
   "execution_count": 304,
   "id": "d3116137-905c-4ed4-8b58-7401b94695ad",
   "metadata": {},
   "outputs": [],
   "source": [
    "start='2023-01-01'\n",
    "end='2023-01-04'"
   ]
  },
  {
   "cell_type": "code",
   "execution_count": 305,
   "id": "23ce3351-eb88-472b-b377-010bd1816e03",
   "metadata": {},
   "outputs": [
    {
     "name": "stdout",
     "output_type": "stream",
     "text": [
      "[*********************100%***********************]  17 of 17 completed\n"
     ]
    }
   ],
   "source": [
    "df = yF.download(ticker_s, start=start, end=end)['Adj Close']"
   ]
  },
  {
   "cell_type": "code",
   "execution_count": 306,
   "id": "e9a85838-1bef-4445-b0e6-decb7592d530",
   "metadata": {},
   "outputs": [],
   "source": [
    "path = 'C:/Users/monic/Documents/Portfolio Data/Sector Momentum Strategy Data'\n",
    "output_file = os.path.join(path,'US_Sector_Y.csv')\n",
    "df.to_csv(output_file, index=False)"
   ]
  },
  {
   "cell_type": "code",
   "execution_count": 307,
   "id": "cd3d674b-9d41-40aa-8a84-82de1ec7a7e9",
   "metadata": {},
   "outputs": [],
   "source": [
    "#------"
   ]
  },
  {
   "cell_type": "code",
   "execution_count": 308,
   "id": "9682ba9f-95a9-43bf-b5cc-9e6e288f3f6a",
   "metadata": {},
   "outputs": [],
   "source": [
    "#SMA Data"
   ]
  },
  {
   "cell_type": "code",
   "execution_count": 309,
   "id": "bd496cc6-e063-462e-83e8-f4bedb31dfe3",
   "metadata": {},
   "outputs": [],
   "source": [
    "#Enter start and end date below for momentum and SMA data."
   ]
  },
  {
   "cell_type": "code",
   "execution_count": 310,
   "id": "b8953fbc-936f-4e78-8273-98919dccbe60",
   "metadata": {},
   "outputs": [],
   "source": [
    "start ='2022-01-01'\n",
    "end = '2023-05-15'"
   ]
  },
  {
   "cell_type": "code",
   "execution_count": 311,
   "id": "8c2265c1-6544-4e01-8d50-68bde6fa0dbf",
   "metadata": {},
   "outputs": [],
   "source": [
    "df_SMA = pd.DataFrame()"
   ]
  },
  {
   "cell_type": "code",
   "execution_count": 312,
   "id": "abf169c4-f5fc-429c-b0a9-45ece753fa88",
   "metadata": {
    "tags": []
   },
   "outputs": [
    {
     "name": "stdout",
     "output_type": "stream",
     "text": [
      "[*********************100%***********************]  17 of 17 completed\n"
     ]
    }
   ],
   "source": [
    "df = yF.download(ticker_s, start=start, end=end)\n",
    "clean_df(df)\n",
    "df.columns = df.columns.str.lstrip(\"Adj Close\")\n",
    "get_SMA(df)\n",
    "df = df.reset_index()"
   ]
  },
  {
   "cell_type": "code",
   "execution_count": 313,
   "id": "3613eb9e-9b46-4282-ae8a-f41e5ba91f59",
   "metadata": {},
   "outputs": [
    {
     "name": "stderr",
     "output_type": "stream",
     "text": [
      "C:\\Users\\monic\\AppData\\Local\\Temp\\ipykernel_18376\\3492965744.py:1: FutureWarning: The frame.append method is deprecated and will be removed from pandas in a future version. Use pandas.concat instead.\n",
      "  df_SMA = df_SMA.append(df)\n"
     ]
    }
   ],
   "source": [
    "df_SMA = df_SMA.append(df)\n",
    "df_SMA['Date'] = pd.to_datetime(df_SMA['Date']).dt.date\n",
    "df_SMA = df_SMA.tail(1)"
   ]
  },
  {
   "cell_type": "code",
   "execution_count": 314,
   "id": "ce88a341-4e59-4a16-9a59-35c35cec601e",
   "metadata": {},
   "outputs": [],
   "source": [
    "path = 'C:/Users/monic/Documents/Portfolio Data/Sector Momentum Strategy Data'\n",
    "output_file = os.path.join(path,'US_Sector_SMA.csv')\n",
    "df_SMA.to_csv(output_file, index=False)"
   ]
  },
  {
   "cell_type": "code",
   "execution_count": 315,
   "id": "1c4f45db-5699-4377-ab04-882b9b2d61f2",
   "metadata": {},
   "outputs": [],
   "source": [
    "#------"
   ]
  },
  {
   "cell_type": "code",
   "execution_count": 316,
   "id": "9a0719ee-7f15-4db2-bcd2-ce7175a79412",
   "metadata": {},
   "outputs": [],
   "source": [
    "#Momentum Data"
   ]
  },
  {
   "cell_type": "code",
   "execution_count": 317,
   "id": "3ce783e5-8dcf-4749-8bf9-97fc4cabbc8d",
   "metadata": {},
   "outputs": [
    {
     "name": "stdout",
     "output_type": "stream",
     "text": [
      "[*********************100%***********************]  17 of 17 completed\n"
     ]
    }
   ],
   "source": [
    "df = yF.download(ticker_s, start=start, end=end)['Adj Close']"
   ]
  },
  {
   "cell_type": "code",
   "execution_count": 318,
   "id": "39471f57-d109-4505-a078-bee8ecdfad2b",
   "metadata": {},
   "outputs": [],
   "source": [
    "df1 = (df.pct_change() +1)[1:].resample('M').prod()\n",
    "df1 = df1 - 1\n",
    "df1 = df1.reset_index()\n",
    "df1['Date'] = pd.to_datetime(df1['Date']).dt.date\n",
    "df1.set_index('Date', inplace=True)\n",
    "df1 = df1.tail(13)"
   ]
  },
  {
   "cell_type": "code",
   "execution_count": 319,
   "id": "99ee5616-f1e5-4128-a945-9eaeb8fdbb20",
   "metadata": {},
   "outputs": [],
   "source": [
    "path = 'C:/Users/monic/Documents/Portfolio Data/Sector Momentum Strategy Data'\n",
    "output_file = os.path.join(path,'US_Sector_MOM.csv')\n",
    "df1.to_csv(output_file, index=True)"
   ]
  },
  {
   "cell_type": "code",
   "execution_count": null,
   "id": "d3ebb95c-af81-44f0-869b-e05d1554a314",
   "metadata": {},
   "outputs": [],
   "source": []
  }
 ],
 "metadata": {
  "kernelspec": {
   "display_name": "Python 3 (ipykernel)",
   "language": "python",
   "name": "python3"
  },
  "language_info": {
   "codemirror_mode": {
    "name": "ipython",
    "version": 3
   },
   "file_extension": ".py",
   "mimetype": "text/x-python",
   "name": "python",
   "nbconvert_exporter": "python",
   "pygments_lexer": "ipython3",
   "version": "3.10.9"
  }
 },
 "nbformat": 4,
 "nbformat_minor": 5
}
