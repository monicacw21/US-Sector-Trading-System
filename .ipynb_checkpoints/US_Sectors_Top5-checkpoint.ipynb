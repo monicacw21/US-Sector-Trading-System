{
 "cells": [
  {
   "cell_type": "code",
   "execution_count": 1,
   "id": "e34e8146-e870-4cee-99da-500059848dbc",
   "metadata": {},
   "outputs": [],
   "source": [
    "import yfinance as yF\n",
    "import os\n",
    "import pandas as pd\n",
    "import numpy as np\n",
    "import pandas_datareader.data as web\n",
    "import datetime\n",
    "import warnings\n",
    "warnings.filterwarnings(\"ignore\")"
   ]
  },
  {
   "cell_type": "code",
   "execution_count": 2,
   "id": "4f12f307-86b3-4de9-bd5a-6e7cda6f5cb4",
   "metadata": {},
   "outputs": [],
   "source": [
    "#List of tickers used for the strategy.\n",
    "tickers = ['XLI', 'XLB', 'XLP', 'XLK', 'XLY', 'XLV', 'XLF', 'XLE', 'XLU', 'XLC', 'XLRE', 'PDBC', 'GLD', 'TLT', 'IEF', 'TIP', 'LTPZ']"
   ]
  },
  {
   "cell_type": "code",
   "execution_count": 3,
   "id": "c90c68ee-67ee-4b2e-b5bc-7cbefd2fc85a",
   "metadata": {},
   "outputs": [],
   "source": [
    "#Start and End date need to be at least one month greater than a year apart. \n",
    "start =\"2022-01-01\"\n",
    "end = \"2023-06-01\""
   ]
  },
  {
   "cell_type": "code",
   "execution_count": 4,
   "id": "6c172939-28ac-4eeb-96f6-67af8d4a4328",
   "metadata": {},
   "outputs": [],
   "source": [
    "class Data_Pull:\n",
    "    def __init__(self, start, end, tickers):\n",
    "        self.start_date = start\n",
    "        self.end_date = end\n",
    "        self.ticker_list = tickers\n",
    "        \n",
    "    def Data_Request(self):\n",
    "        dataframe = yF.download(self.ticker_list, self.start_date, self.end_date)['Adj Close']\n",
    "        return dataframe"
   ]
  },
  {
   "cell_type": "code",
   "execution_count": 5,
   "id": "dae25568-8383-4171-bfe7-648b6fffaf0e",
   "metadata": {},
   "outputs": [],
   "source": [
    "class Top_Momentum:\n",
    "    def __init__(self, dataframe):\n",
    "        self.df = dataframe\n",
    "    \n",
    "    def SMA(self):\n",
    "        for column in self.df:\n",
    "            self.df[column+'_SMA'] = self.df[column].rolling(168).mean()\n",
    "            if self.df.iloc[-1][column+'_SMA'] > self.df.iloc[-1][column]:\n",
    "                self.df.drop(column, axis=1, inplace=True)\n",
    "    \n",
    "        regex_str = '_SMA'\n",
    "        self.df = self.df.drop(self.df.columns[self.df.columns.str.contains(regex_str)], axis=1)\n",
    "        global column_names\n",
    "        column_names = self.df.columns.values.tolist()\n",
    "    \n",
    "    def Momentum_Multiple(self):\n",
    "        self.df = (self.df.pct_change() +1)[1:].resample('M').prod()\n",
    "        self.df = self.df - 1\n",
    "        global momentum_matrix\n",
    "        #Major issues with the monthly outcomes not being accurate. \n",
    "        #------\n",
    "        #1 Month\n",
    "        self.m1 = self.df.tail(1).copy()\n",
    "        #3 Month\n",
    "        self.m3 = self.df.tail(3).copy()\n",
    "        #6 Month\n",
    "        self.m6 = self.df.tail(6).copy()\n",
    "        #9 Month\n",
    "        self.m9 = self.df.tail(9).copy()\n",
    "        #12 Month\n",
    "        self.m12 = self.df.tail(12).copy()\n",
    "        #Month 1 Perf.\n",
    "        self.m1p = self.m1.copy()\n",
    "        self.m1 = (self.m1p*100).round(2)\n",
    "        #Month 3,6,9,12 Perf.\n",
    "        df_list = self.m3, self.m6, self.m9, self.m12\n",
    "        for dataframe in df_list:\n",
    "            for column in dataframe:\n",
    "                dataframe[column] = ((1 + dataframe[column]).cumprod()-1)\n",
    "                dataframe[column] = (dataframe[column]*100).round(2)    \n",
    "        #------\n",
    "        #Average\n",
    "        momentum_matrix = pd.concat([self.m1.tail(1), self.m3.tail(1), self.m6.tail(1), self.m9.tail(1), self.m12.tail(1)], axis=0)\n",
    "        momentum_matrix = momentum_matrix.mean(axis=0).round(2)\n",
    "        #Removes Assets with 0 or negative momentum\n",
    "        momentum_matrix = momentum_matrix.drop(momentum_matrix[momentum_matrix <= 0].index)\n",
    "        #Only selects the top 5 assets\n",
    "        momentum_matrix = momentum_matrix.nlargest(n=5, keep='first')\n",
    "    "
   ]
  },
  {
   "cell_type": "code",
   "execution_count": 6,
   "id": "393e9ce9-94a1-4c9c-aae4-33e96cd27bdc",
   "metadata": {},
   "outputs": [
    {
     "name": "stdout",
     "output_type": "stream",
     "text": [
      "[*********************100%***********************]  17 of 17 completed\n"
     ]
    }
   ],
   "source": [
    "#SMA Data\n",
    "#Removes assets that are below thier 168 day or 8 month SMA. \n",
    "SMA_Data = Data_Pull(start, end, tickers)\n",
    "SMA_Stock_data = SMA_Data.Data_Request()\n",
    "Top_5 = Top_Momentum(SMA_Stock_data)\n",
    "Top_5.SMA()"
   ]
  },
  {
   "cell_type": "code",
   "execution_count": 7,
   "id": "e374bc9d-e00e-4e8b-88d2-7b3f995331b3",
   "metadata": {},
   "outputs": [
    {
     "name": "stdout",
     "output_type": "stream",
     "text": [
      "[*********************100%***********************]  9 of 9 completed\n"
     ]
    }
   ],
   "source": [
    "#Momentum\n",
    "#Selects the top 5 assets based on momentum and removes assets with momentum <= 0. \n",
    "tickers = column_names\n",
    "Momentum_Data = Data_Pull(start, end, tickers)\n",
    "Momentum_Stock_Data = Momentum_Data.Data_Request()\n",
    "Top_5 = Top_Momentum(Momentum_Stock_Data)\n",
    "Top_5.Momentum_Multiple()"
   ]
  },
  {
   "cell_type": "code",
   "execution_count": 8,
   "id": "1185ad57-e1d4-4340-9625-9688a337ca8d",
   "metadata": {},
   "outputs": [
    {
     "data": {
      "text/plain": [
       "XLK    11.12\n",
       "XLC     9.97\n",
       "GLD     7.32\n",
       "XLI     0.25\n",
       "XLY     0.09\n",
       "dtype: float64"
      ]
     },
     "execution_count": 8,
     "metadata": {},
     "output_type": "execute_result"
    }
   ],
   "source": [
    "momentum_matrix"
   ]
  },
  {
   "cell_type": "code",
   "execution_count": 9,
   "id": "a2ac5d48-f17f-4d8f-82b9-3a6049b7ae9f",
   "metadata": {},
   "outputs": [],
   "source": [
    "path = ''\n",
    "output_file = os.path.join(path,'USSectors_Top5.csv')\n",
    "momentum_matrix.to_csv(output_file, index=True)"
   ]
  },
  {
   "cell_type": "code",
   "execution_count": null,
   "id": "91d98251-253f-4572-8ae3-1e52900ff006",
   "metadata": {},
   "outputs": [],
   "source": []
  }
 ],
 "metadata": {
  "kernelspec": {
   "display_name": "Python 3 (ipykernel)",
   "language": "python",
   "name": "python3"
  },
  "language_info": {
   "codemirror_mode": {
    "name": "ipython",
    "version": 3
   },
   "file_extension": ".py",
   "mimetype": "text/x-python",
   "name": "python",
   "nbconvert_exporter": "python",
   "pygments_lexer": "ipython3",
   "version": "3.9.7"
  }
 },
 "nbformat": 4,
 "nbformat_minor": 5
}
